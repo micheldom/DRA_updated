{
 "cells": [
  {
   "cell_type": "code",
   "execution_count": 4,
   "metadata": {},
   "outputs": [],
   "source": [
    "import torchvision\n",
    "from torchvision.models import resnet18, list_models, get_model, get_weight, get_model_weights\n",
    "\n",
    "# List available models\n",
    "all_models = list_models()\n",
    "classification_models = list_models(module=torchvision.models)\n",
    "\n",
    "# Initialize models\n",
    "m1 = get_model(\"mobilenet_v3_large\", weights=None)\n",
    "m2 = get_model(\"quantized_mobilenet_v3_large\", weights=\"DEFAULT\")\n",
    "\n",
    "# Fetch weights\n",
    "weights = get_weight(\"MobileNet_V3_Large_QuantizedWeights.DEFAULT\")\n",
    "assert weights == MobileNet_V3_Large_QuantizedWeights.DEFAULT\n",
    "\n",
    "weights_enum = get_model_weights(\"quantized_mobilenet_v3_large\")\n",
    "assert weights_enum == MobileNet_V3_Large_QuantizedWeights\n",
    "\n",
    "weights_enum2 = get_model_weights(torchvision.models.quantization.mobilenet_v3_large)\n",
    "assert weights_enum == weights_enum2"
   ]
  }
 ],
 "metadata": {
  "kernelspec": {
   "display_name": "base",
   "language": "python",
   "name": "python3"
  },
  "language_info": {
   "codemirror_mode": {
    "name": "ipython",
    "version": 3
   },
   "file_extension": ".py",
   "mimetype": "text/x-python",
   "name": "python",
   "nbconvert_exporter": "python",
   "pygments_lexer": "ipython3",
   "version": "3.11.7"
  }
 },
 "nbformat": 4,
 "nbformat_minor": 2
}
